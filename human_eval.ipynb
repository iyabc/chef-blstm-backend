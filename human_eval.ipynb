{
 "cells": [
  {
   "cell_type": "code",
   "execution_count": 2,
   "metadata": {},
   "outputs": [],
   "source": [
    "import database\n",
    "import numpy as np\n",
    "from statsmodels.stats.inter_rater import fleiss_kappa,aggregate_raters\n",
    "\n",
    "table = database.view_table('evaluations_table')"
   ]
  },
  {
   "cell_type": "code",
   "execution_count": 3,
   "metadata": {},
   "outputs": [],
   "source": [
    "all_scores = []"
   ]
  },
  {
   "cell_type": "markdown",
   "metadata": {},
   "source": [
    "## Getting array of array of scores"
   ]
  },
  {
   "cell_type": "code",
   "execution_count": 4,
   "metadata": {},
   "outputs": [],
   "source": [
    "for row in table:\n",
    "    row_scores = []\n",
    "    for score in row[-6:]:\n",
    "        row_scores.append(score)\n",
    "    all_scores.append(row_scores)\n",
    "    all_scores.append(row_scores)"
   ]
  },
  {
   "cell_type": "code",
   "execution_count": 5,
   "metadata": {},
   "outputs": [
    {
     "name": "stdout",
     "output_type": "stream",
     "text": [
      "4\n",
      "[[5, 2, 4, 5, 4, 0], [5, 2, 4, 5, 4, 0], [5, 1, 4, 5, 3, 3], [5, 1, 4, 5, 3, 3]]\n"
     ]
    }
   ],
   "source": [
    "print(len(all_scores))\n",
    "print(all_scores)"
   ]
  },
  {
   "cell_type": "markdown",
   "metadata": {},
   "source": [
    "## Getting average ratings"
   ]
  },
  {
   "cell_type": "markdown",
   "metadata": {},
   "source": [
    "Question Number:\n",
    "1. How easy was the recipe to follow? **(Clarity)**\n",
    "2. How creative or inventive is the recipe generated from the user-inputted ingredients? **(Creativity/Novelty)**\n",
    "3. How well does the generated recipe suit your provided ingredients? **(Suitability)**\n",
    "4. How doable and edible does the recipe appear to be based on your inputted ingredients and the generated recipe? **(Doability and Edibility)**\n",
    "5. How likely are you to try the recipe generated from your inputted ingredients? **(Likelihood to Try)**\n",
    "6. How would you rate the overall quality of the recipe generated from your inputted ingredients? **(Overall Recipe Quality)**"
   ]
  },
  {
   "cell_type": "code",
   "execution_count": 8,
   "metadata": {},
   "outputs": [
    {
     "name": "stdout",
     "output_type": "stream",
     "text": [
      "[0 0 3 3]\n",
      "Question 6 average score: 1.5\n"
     ]
    }
   ],
   "source": [
    "question_num = 6\n",
    "index = question_num - 1\n",
    "\n",
    "values = np.array(all_scores)[:, index]\n",
    "\n",
    "average = np.mean(values)\n",
    "\n",
    "print('Question', question_num, 'average score:', average)"
   ]
  },
  {
   "cell_type": "markdown",
   "metadata": {},
   "source": [
    "## Getting Fleiss Kappa"
   ]
  },
  {
   "cell_type": "code",
   "execution_count": 195,
   "metadata": {},
   "outputs": [
    {
     "name": "stdout",
     "output_type": "stream",
     "text": [
      "[[5 2 4 5 4 0]\n",
      " [5 2 4 5 4 0]\n",
      " [5 1 4 5 3 3]\n",
      " [5 1 4 5 3 3]]\n",
      "[[5 4 3 2 1]\n",
      " [1 2 3 4 5]\n",
      " [5 4 3 2 1]\n",
      " [1 2 3 4 5]\n",
      " [5 0 5 5 0]\n",
      " [5 0 5 5 0]\n",
      " [5 0 5 5 0]]\n"
     ]
    },
    {
     "ename": "AssertionError",
     "evalue": "",
     "output_type": "error",
     "traceback": [
      "\u001b[0;31m---------------------------------------------------------------------------\u001b[0m",
      "\u001b[0;31mAssertionError\u001b[0m                            Traceback (most recent call last)",
      "\u001b[1;32m/home/iya/chef-gru-backend/kappa.ipynb Cell 10\u001b[0m line \u001b[0;36m7\n\u001b[1;32m      <a href='vscode-notebook-cell://wsl%2Bubuntu/home/iya/chef-gru-backend/kappa.ipynb#W6sdnNjb2RlLXJlbW90ZQ%3D%3D?line=3'>4</a>\u001b[0m test \u001b[39m=\u001b[39m np\u001b[39m.\u001b[39marray([[\u001b[39m5\u001b[39m,\u001b[39m4\u001b[39m,\u001b[39m3\u001b[39m,\u001b[39m2\u001b[39m,\u001b[39m1\u001b[39m], [\u001b[39m1\u001b[39m,\u001b[39m2\u001b[39m,\u001b[39m3\u001b[39m,\u001b[39m4\u001b[39m,\u001b[39m5\u001b[39m], [\u001b[39m5\u001b[39m,\u001b[39m4\u001b[39m,\u001b[39m3\u001b[39m,\u001b[39m2\u001b[39m,\u001b[39m1\u001b[39m], [\u001b[39m1\u001b[39m,\u001b[39m2\u001b[39m,\u001b[39m3\u001b[39m,\u001b[39m4\u001b[39m,\u001b[39m5\u001b[39m], [\u001b[39m5\u001b[39m,\u001b[39m0\u001b[39m,\u001b[39m5\u001b[39m,\u001b[39m5\u001b[39m,\u001b[39m0\u001b[39m], [\u001b[39m5\u001b[39m,\u001b[39m0\u001b[39m,\u001b[39m5\u001b[39m,\u001b[39m5\u001b[39m,\u001b[39m0\u001b[39m], [\u001b[39m5\u001b[39m,\u001b[39m0\u001b[39m,\u001b[39m5\u001b[39m,\u001b[39m5\u001b[39m,\u001b[39m0\u001b[39m]])\n\u001b[1;32m      <a href='vscode-notebook-cell://wsl%2Bubuntu/home/iya/chef-gru-backend/kappa.ipynb#W6sdnNjb2RlLXJlbW90ZQ%3D%3D?line=4'>5</a>\u001b[0m \u001b[39mprint\u001b[39m(test)\n\u001b[0;32m----> <a href='vscode-notebook-cell://wsl%2Bubuntu/home/iya/chef-gru-backend/kappa.ipynb#W6sdnNjb2RlLXJlbW90ZQ%3D%3D?line=6'>7</a>\u001b[0m kappa \u001b[39m=\u001b[39m fleiss_kappa(ratings)\n\u001b[1;32m      <a href='vscode-notebook-cell://wsl%2Bubuntu/home/iya/chef-gru-backend/kappa.ipynb#W6sdnNjb2RlLXJlbW90ZQ%3D%3D?line=7'>8</a>\u001b[0m \u001b[39mprint\u001b[39m(\u001b[39m\"\u001b[39m\u001b[39mFleiss\u001b[39m\u001b[39m'\u001b[39m\u001b[39m Kappa:\u001b[39m\u001b[39m\"\u001b[39m, kappa)\n",
      "File \u001b[0;32m~/chef-gru-backend/lib/python3.10/site-packages/statsmodels/stats/inter_rater.py:253\u001b[0m, in \u001b[0;36mfleiss_kappa\u001b[0;34m(table, method)\u001b[0m\n\u001b[1;32m    251\u001b[0m n_rat \u001b[39m=\u001b[39m n_rater\u001b[39m.\u001b[39mmax()\n\u001b[1;32m    252\u001b[0m \u001b[39m#assume fully ranked\u001b[39;00m\n\u001b[0;32m--> 253\u001b[0m \u001b[39massert\u001b[39;00m n_total \u001b[39m==\u001b[39m n_sub \u001b[39m*\u001b[39m n_rat\n\u001b[1;32m    255\u001b[0m \u001b[39m#marginal frequency  of categories\u001b[39;00m\n\u001b[1;32m    256\u001b[0m p_cat \u001b[39m=\u001b[39m table\u001b[39m.\u001b[39msum(\u001b[39m0\u001b[39m) \u001b[39m/\u001b[39m n_total\n",
      "\u001b[0;31mAssertionError\u001b[0m: "
     ]
    }
   ],
   "source": [
    "ratings = np.array(all_scores)\n",
    "print(ratings)\n",
    "\n",
    "test = np.array([[5,4,3,2,1], [1,2,3,4,5], [5,4,3,2,1], [1,2,3,4,5], [5,0,5,5,0], [5,0,5,5,0], [5,0,5,5,0]])\n",
    "print(test)\n",
    "\n",
    "kappa = fleiss_kappa(ratings)\n",
    "print(\"Fleiss' Kappa:\", kappa)"
   ]
  }
 ],
 "metadata": {
  "kernelspec": {
   "display_name": "chef-gru-backend",
   "language": "python",
   "name": "python3"
  },
  "language_info": {
   "codemirror_mode": {
    "name": "ipython",
    "version": 3
   },
   "file_extension": ".py",
   "mimetype": "text/x-python",
   "name": "python",
   "nbconvert_exporter": "python",
   "pygments_lexer": "ipython3",
   "version": "3.10.12"
  }
 },
 "nbformat": 4,
 "nbformat_minor": 2
}
